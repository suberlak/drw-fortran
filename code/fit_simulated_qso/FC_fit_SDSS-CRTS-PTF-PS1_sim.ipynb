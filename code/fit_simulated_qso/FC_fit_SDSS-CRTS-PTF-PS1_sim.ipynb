{
 "cells": [
  {
   "cell_type": "markdown",
   "metadata": {},
   "source": [
    "A notebook to fit simulated light curves, spanning the true length of a light curve, but sampled at cadences corresponding to individual surveys. The errors are median errors of each light curve, so each light curve has different errors. "
   ]
  },
  {
   "cell_type": "markdown",
   "metadata": {},
   "source": [
    "Directories with light curves : \n",
    "    \n",
    "    SDSS_CRTS_PTF_PS1_sim/median_err/sdss/lc/ \n",
    "    SDSS_CRTS_PTF_PS1_sim/median_err/sdss-crts/lc/ \n",
    "    SDSS_CRTS_PTF_PS1_sim/median_err/sdss-crts-ptf/lc/ \n",
    "    SDSS_CRTS_PTF_PS1_sim/median_err/sdss-crts-ptf-ps1/lc/ "
   ]
  },
  {
   "cell_type": "code",
   "execution_count": 2,
   "metadata": {
    "collapsed": true
   },
   "outputs": [],
   "source": [
    "import os \n",
    "import subprocess\n",
    "import matplotlib.pyplot as plt\n",
    "from astropy.table import Table\n",
    "from astropy.table import join\n",
    "import numpy as np\n",
    "from matplotlib import rcParams \n",
    "rcParams['ytick.labelsize'] = 15\n",
    "rcParams['xtick.labelsize'] = 15\n",
    "rcParams['axes.labelsize'] = 20\n",
    "rcParams['axes.linewidth'] = 2\n",
    "rcParams['font.size'] = 15\n",
    "rcParams['axes.titlesize'] = 18\n",
    "\n"
   ]
  },
  {
   "cell_type": "markdown",
   "metadata": {},
   "source": [
    "Make the process.dat file ... "
   ]
  },
  {
   "cell_type": "code",
   "execution_count": 59,
   "metadata": {
    "collapsed": true
   },
   "outputs": [],
   "source": [
    "surveys = ['sdss-crts-ptf-ps1', 'sdss-crts-ptf', 'sdss-crts', 'sdss']\n",
    "simDir = 'SDSS_CRTS_PTF_PS1_sim/median_err/'\n",
    "for survey in surveys : \n",
    "    print(survey)\n",
    "    lcDir = simDir + survey + '/lc/'\n",
    "    lcNames=  os.listdir(lcDir)\n",
    "    lcNpoints = []\n",
    "    \n",
    "    # fing the length of each light curve \n",
    "    for fn in lcNames :\n",
    "        with open(lcDir+fn) as f : \n",
    "            length = sum(1 for line in f if line.strip()) \n",
    "            lcNpoints.append(length)\n",
    "    lcNpoints = np.asarray(lcNpoints)      \n",
    "    \n",
    "    # Make a input.filter file, saying which filter we are using (1 = u,  5 = z )\n",
    "    f = open(simDir+survey+'/'+\"input.filter\", \"w+\")\n",
    "    f.write(\"1\")\n",
    "    f.close()\n",
    "\n",
    "    # Make a process.dat file ...\n",
    "    f= open(simDir+survey+'/'+\"process.dat\",\"w+\")\n",
    "\n",
    "    # write the header\n",
    "    Nlightcurves =  len(lcNames)\n",
    "    f.write(str(Nlightcurves)+\" #ndata RA Dec redshift Absi fname \\n\")\n",
    "    # write the file lines \n",
    "    for i in range(Nlightcurves):\n",
    "         f.write(str(lcNpoints[i]) + \"   0       0       1     -25  \" +\\\n",
    "                 \"'\"+\"lc/\"+lcNames[i]+ \"'\\n\")\n",
    "    # close the file \n",
    "    f.close()"
   ]
  },
  {
   "cell_type": "markdown",
   "metadata": {},
   "source": [
    "Run in each directory :  \n",
    "    \n",
    "    cd SDSS_CRTS_PTF_PS1_sim/median_err/sdss/ \n",
    "    ./qso.out  \n",
    "    \n",
    "    cd SDSS_CRTS_PTF_PS1_sim/median_err/sdss-crts/ \n",
    "    ./qso.out  \n",
    "    \n",
    "    cd SDSS_CRTS_PTF_PS1_sim/median_err/sdss-crts-ptf/ \n",
    "    ./qso.out \n",
    "    \n",
    "    cd SDSS_CRTS_PTF_PS1_sim/median_err/sdss-crts-ptf-ps1/ \n",
    "    ./qso.out "
   ]
  },
  {
   "cell_type": "markdown",
   "metadata": {},
   "source": [
    "Take the outcome and combine on a single plot  : "
   ]
  },
  {
   "cell_type": "code",
   "execution_count": 21,
   "metadata": {},
   "outputs": [
    {
     "name": "stdout",
     "output_type": "stream",
     "text": [
      "+sdss-crts-ptf-ps1 6444\n",
      "+sdss-crts-ptf 6444\n",
      "+sdss-crts 6444\n"
     ]
    },
    {
     "name": "stderr",
     "output_type": "stream",
     "text": [
      "/Users/chris/anaconda3/envs/py36/lib/python3.6/site-packages/ipykernel_launcher.py:12: RuntimeWarning: overflow encountered in power\n",
      "  if sys.path[0] == '':\n"
     ]
    },
    {
     "name": "stdout",
     "output_type": "stream",
     "text": [
      "+sdss 6444\n",
      "---------\n",
      "=combined  6444\n"
     ]
    }
   ],
   "source": [
    "surveys = ['sdss-crts-ptf-ps1', 'sdss-crts-ptf', 'sdss-crts', 'sdss']\n",
    "simDir = 'SDSS_CRTS_PTF_PS1_sim/median_err/'\n",
    "results = {}\n",
    "for survey in surveys : \n",
    "    results[survey] = {}\n",
    "    resDir = simDir+survey+'/'\n",
    "    fit_results = Table.read(resDir+'fort.40', format='ascii', \n",
    "                             names=['edge','mu', 'maxlike','minchi','minchired', 'log_sigma' ,\n",
    "     'log_sig_err_lo','log_sig_err_hi','log_tau','log_tau_err_lo','log_tau_err_hi',\n",
    "     'log_tau_med','log_sig_med', 'fname']  )\n",
    "    print('+'+survey, len(fit_results))\n",
    "    results[survey]['sigma'] = np.power(10, fit_results['log_sigma'].data)\n",
    "    results[survey]['tau'] = np.power(10, fit_results['log_tau'].data)\n",
    "    results[survey]['lcname'] = fit_results['fname'].data\n",
    "\n",
    "# propagate results to Tables that can be easily joined \n",
    "s = {}\n",
    "for survey in surveys : \n",
    "    s[survey]= Table(data=[results[survey]['lcname'], \n",
    "                           results[survey]['tau'],\n",
    "                           results[survey]['sigma']],\n",
    "                     names=['lcname', 'tau', 'sigma'])\n",
    "    \n",
    "# join all results on lcname \n",
    "sa = join(s[surveys[0]], s[surveys[1]], keys = 'lcname', table_names=[surveys[0],\n",
    "                                                                surveys[1]])\n",
    "sb = join(s[surveys[2]], s[surveys[3]], keys = 'lcname', table_names=[surveys[2],\n",
    "                                                                surveys[3]])\n",
    "ss = join(sa, sb, keys='lcname')\n",
    "print('---------')\n",
    "print('=combined ', len(ss))"
   ]
  },
  {
   "cell_type": "code",
   "execution_count": 6,
   "metadata": {},
   "outputs": [
    {
     "data": {
      "text/html": [
       "<i>Table length=5688</i>\n",
       "<table id=\"table4692422160\" class=\"table-striped table-bordered table-condensed\">\n",
       "<thead><tr><th>lcname</th><th>tau_sdss-crts-ptf-ps1</th><th>sigma_sdss-crts-ptf-ps1</th><th>tau_sdss-crts-ptf</th><th>sigma_sdss-crts-ptf</th><th>tau_sdss-crts</th><th>sigma_sdss-crts</th><th>tau_sdss</th><th>sigma_sdss</th></tr></thead>\n",
       "<thead><tr><th>str15</th><th>float64</th><th>float64</th><th>float64</th><th>float64</th><th>float64</th><th>float64</th><th>float64</th><th>float64</th></tr></thead>\n",
       "<tr><td>lc/1001265F.txt</td><td>1824.3787289</td><td>0.125390605629</td><td>1617.76337844</td><td>0.130965830109</td><td>1737.44473759</td><td>0.127745614572</td><td>441.283815927</td><td>0.111159606314</td></tr>\n",
       "<tr><td>lc/1001531F.txt</td><td>25118.8643151</td><td>0.1</td><td>2033.2276169</td><td>0.107130220797</td><td>25118.8643151</td><td>0.11220184543</td><td>25118.8643151</td><td>0.11220184543</td></tr>\n",
       "<tr><td>lc/1001793F.txt</td><td>1088.48387574</td><td>0.108272209631</td><td>1110.47810474</td><td>0.108507560587</td><td>1155.89663651</td><td>0.104775079733</td><td>9858.52631449</td><td>0.0573947277284</td></tr>\n",
       "<tr><td>lc/1002162F.txt</td><td>25118.8643151</td><td>0.125892541179</td><td>25118.8643151</td><td>0.125892541179</td><td>25118.8643151</td><td>0.125892541179</td><td>488.621980869</td><td>0.143994200223</td></tr>\n",
       "<tr><td>lc/1002453F.txt</td><td>762.105331756</td><td>0.128757934134</td><td>731.945929621</td><td>0.133713420943</td><td>680.170825741</td><td>0.137045569518</td><td>25118.8643151</td><td>0.158489319246</td></tr>\n",
       "<tr><td>lc/100286F.txt</td><td>1324.3201895</td><td>0.11879933237</td><td>1277.37084647</td><td>0.119751786198</td><td>1106.29767582</td><td>0.122052871111</td><td>907.137248223</td><td>0.119020288872</td></tr>\n",
       "<tr><td>lc/1003180F.txt</td><td>1339.34049518</td><td>0.102600151014</td><td>1366.284055</td><td>0.100666970725</td><td>1770.31683767</td><td>0.101852571916</td><td>9821.11960356</td><td>0.111297138867</td></tr>\n",
       "<tr><td>lc/1003235F.txt</td><td>578.748662015</td><td>0.121055074689</td><td>556.888179937</td><td>0.120617688095</td><td>525.851358227</td><td>0.128055725211</td><td>25118.8643151</td><td>0.11220184543</td></tr>\n",
       "<tr><td>lc/1003323F.txt</td><td>622.459357326</td><td>0.124624663879</td><td>581.296890748</td><td>0.127482038665</td><td>577.194255305</td><td>0.128034497108</td><td>1008.32143601</td><td>0.109306251234</td></tr>\n",
       "<tr><td>lc/1003453F.txt</td><td>704.662239942</td><td>0.0943889163245</td><td>703.496595416</td><td>0.0944711060447</td><td>695.306036732</td><td>0.0910548325419</td><td>604.98694065</td><td>0.0791421783793</td></tr>\n",
       "<tr><td>...</td><td>...</td><td>...</td><td>...</td><td>...</td><td>...</td><td>...</td><td>...</td><td>...</td></tr>\n",
       "<tr><td>lc/995609F.txt</td><td>412.137374388</td><td>0.150180657028</td><td>378.418186408</td><td>0.156050800204</td><td>382.502255147</td><td>0.156184164971</td><td>397.221731338</td><td>0.184566127456</td></tr>\n",
       "<tr><td>lc/995826F.txt</td><td>18478.512157</td><td>0.105925372518</td><td>18478.512157</td><td>0.105925372518</td><td>18478.512157</td><td>0.01</td><td>25118.8643151</td><td>0.1</td></tr>\n",
       "<tr><td>lc/996795F.txt</td><td>518.300944195</td><td>0.10806075561</td><td>477.042420564</td><td>0.113001705967</td><td>459.009844436</td><td>0.110985949029</td><td>144.925897981</td><td>0.149586361968</td></tr>\n",
       "<tr><td>lc/997798F.txt</td><td>969.68571988</td><td>0.109296687549</td><td>861.666085912</td><td>0.114015527268</td><td>861.344728215</td><td>0.115230381571</td><td>433.963296945</td><td>0.13324011535</td></tr>\n",
       "<tr><td>lc/998022F.txt</td><td>25118.8643151</td><td>0.11220184543</td><td>25118.8643151</td><td>0.11220184543</td><td>25118.8643151</td><td>0.11220184543</td><td>25118.8643151</td><td>0.1</td></tr>\n",
       "<tr><td>lc/998768F.txt</td><td>857.523439778</td><td>0.132948364772</td><td>777.929068743</td><td>0.138664726693</td><td>754.629884617</td><td>0.137725069436</td><td>488.48361394</td><td>0.153203963161</td></tr>\n",
       "<tr><td>lc/998917F.txt</td><td>25118.8643151</td><td>0.11220184543</td><td>25118.8643151</td><td>0.11220184543</td><td>25118.8643151</td><td>0.1</td><td>25118.8643151</td><td>0.063095734448</td></tr>\n",
       "<tr><td>lc/998945F.txt</td><td>25118.8643151</td><td>0.141253754462</td><td>25118.8643151</td><td>0.141253754462</td><td>25118.8643151</td><td>0.158489319246</td><td>25118.8643151</td><td>0.158489319246</td></tr>\n",
       "<tr><td>lc/999464F.txt</td><td>544.727122799</td><td>0.104779904915</td><td>530.719444985</td><td>0.107161306539</td><td>522.660885606</td><td>0.109353578623</td><td>25118.8643151</td><td>0.0794328234724</td></tr>\n",
       "<tr><td>lc/999508F.txt</td><td>446.404948285</td><td>0.152487414217</td><td>437.456626986</td><td>0.157959590796</td><td>429.875802916</td><td>0.15872853211</td><td>487.986716251</td><td>0.156058705449</td></tr>\n",
       "</table>"
      ],
      "text/plain": [
       "<Table length=5688>\n",
       "     lcname     tau_sdss-crts-ptf-ps1 ...    tau_sdss      sigma_sdss  \n",
       "     str15             float64        ...    float64        float64    \n",
       "--------------- --------------------- ... ------------- ---------------\n",
       "lc/1001265F.txt          1824.3787289 ... 441.283815927  0.111159606314\n",
       "lc/1001531F.txt         25118.8643151 ... 25118.8643151   0.11220184543\n",
       "lc/1001793F.txt         1088.48387574 ... 9858.52631449 0.0573947277284\n",
       "lc/1002162F.txt         25118.8643151 ... 488.621980869  0.143994200223\n",
       "lc/1002453F.txt         762.105331756 ... 25118.8643151  0.158489319246\n",
       " lc/100286F.txt          1324.3201895 ... 907.137248223  0.119020288872\n",
       "lc/1003180F.txt         1339.34049518 ... 9821.11960356  0.111297138867\n",
       "lc/1003235F.txt         578.748662015 ... 25118.8643151   0.11220184543\n",
       "lc/1003323F.txt         622.459357326 ... 1008.32143601  0.109306251234\n",
       "lc/1003453F.txt         704.662239942 ...  604.98694065 0.0791421783793\n",
       "            ...                   ... ...           ...             ...\n",
       " lc/995609F.txt         412.137374388 ... 397.221731338  0.184566127456\n",
       " lc/995826F.txt          18478.512157 ... 25118.8643151             0.1\n",
       " lc/996795F.txt         518.300944195 ... 144.925897981  0.149586361968\n",
       " lc/997798F.txt          969.68571988 ... 433.963296945   0.13324011535\n",
       " lc/998022F.txt         25118.8643151 ... 25118.8643151             0.1\n",
       " lc/998768F.txt         857.523439778 ...  488.48361394  0.153203963161\n",
       " lc/998917F.txt         25118.8643151 ... 25118.8643151  0.063095734448\n",
       " lc/998945F.txt         25118.8643151 ... 25118.8643151  0.158489319246\n",
       " lc/999464F.txt         544.727122799 ... 25118.8643151 0.0794328234724\n",
       " lc/999508F.txt         446.404948285 ... 487.986716251  0.156058705449"
      ]
     },
     "execution_count": 6,
     "metadata": {},
     "output_type": "execute_result"
    }
   ],
   "source": [
    "ss"
   ]
  },
  {
   "cell_type": "markdown",
   "metadata": {},
   "source": [
    "Plot the combined results : "
   ]
  },
  {
   "cell_type": "code",
   "execution_count": 7,
   "metadata": {},
   "outputs": [
    {
     "data": {
      "text/plain": [
       "0.1414213562373095"
      ]
     },
     "execution_count": 7,
     "metadata": {},
     "output_type": "execute_result"
    }
   ],
   "source": [
    "0.2 / np.sqrt(2)"
   ]
  },
  {
   "cell_type": "code",
   "execution_count": 25,
   "metadata": {},
   "outputs": [
    {
     "name": "stdout",
     "output_type": "stream",
     "text": [
      "sdss  tau_fit/tau_in  median  0.770733362903 , bias  -0.116384795735\n",
      "sdss-crts  tau_fit/tau_in  median  1.1615265875 , bias  0.293794207877\n",
      "sdss-crts-ptf  tau_fit/tau_in  median  1.18186305086 , bias  0.308823991805\n",
      "sdss-crts-ptf-ps1  tau_fit/tau_in  median  1.20999382873 , bias  0.339723207538\n"
     ]
    },
    {
     "data": {
      "image/png": "[encoded data removed]",
      "text/plain": [
       "<matplotlib.figure.Figure at 0x1165f6908>"
      ]
     },
     "metadata": {},
     "output_type": "display_data"
    }
   ],
   "source": [
    "%matplotlib inline\n",
    "label = ['sdss', 'sdss+crts', 'sdss+crts+ptf', 'sdss+crts+ptf+ps1']\n",
    "import matplotlib.lines as mlines\n",
    "tau_in = 575 # days \n",
    "SF_inf = 0.2  # mags \n",
    "sigma_in = SF_inf / np.sqrt(2)\n",
    "\n",
    "factor = np.power(10,0.11)\n",
    "fig,ax = plt.subplots(1,1,figsize=(8,6))\n",
    "colors= ['blue','green', 'orange',  'red']\n",
    "ax_legend_handles = []\n",
    "for i in  range(4):\n",
    "    survey = label[i].replace('+','-')\n",
    "    tau_fit =  ss['tau_'+survey]\n",
    "    x = tau_fit / tau_in\n",
    "    ax.hist( x , range=[0,4], histtype='step', \n",
    "            color=colors[i], lw=3,bins=30)\n",
    "    x = x[(0<x)*(x<4)]\n",
    "    print(survey, ' tau_fit/tau_in  median ', np.median(x), ', bias ', np.mean(x)-1)\n",
    "    line = mlines.Line2D([], [],  color=colors[i], \n",
    "                                 label=label[i].upper())\n",
    "    ax_legend_handles.append(line)\n",
    "legend_ax = fig.add_axes([0.6, 0.5, 0.29, 0.29])     #  (x0 ,y0  , dx,  dy )  \n",
    "legend_ax.legend(loc='upper right', handles = ax_legend_handles, frameon=False,\n",
    "                 fontsize=15,)\n",
    "legend_ax.axis('off')\n",
    "ax.axvline(1, lw=2, ls='--', c='grey')\n",
    "ax.set_xlabel(r'$\\tau_{fit} / \\tau_{in}$')\n",
    "ax.set_ylabel('count')\n",
    "plt.savefig('combined_lc_sampled_tau_FORTRAN.png', bbox_inches='tight')\n",
    "            \n",
    "\n"
   ]
  },
  {
   "cell_type": "markdown",
   "metadata": {},
   "source": [
    "Plot the same for sigma ..."
   ]
  },
  {
   "cell_type": "code",
   "execution_count": 27,
   "metadata": {},
   "outputs": [
    {
     "name": "stdout",
     "output_type": "stream",
     "text": [
      "sdss median sigma_fit/sigma_in=  0.805824568039\n",
      "sdss-crts median sigma_fit/sigma_in=  0.826472680395\n",
      "sdss-crts-ptf median sigma_fit/sigma_in=  0.825382016449\n",
      "sdss-crts-ptf-ps1 median sigma_fit/sigma_in=  0.818472331083\n"
     ]
    },
    {
     "data": {
      "image/png": "[encoded data removed]",
      "text/plain": [
       "<matplotlib.figure.Figure at 0x117b2b358>"
      ]
     },
     "metadata": {},
     "output_type": "display_data"
    }
   ],
   "source": [
    "%matplotlib inline\n",
    "label = ['sdss', 'sdss+crts', 'sdss+crts+ptf', 'sdss+crts+ptf+ps1']\n",
    "import matplotlib.lines as mlines\n",
    "tau_in = 575 # days \n",
    "SF_inf = 0.2  # mags \n",
    "sigma_in = SF_inf / np.sqrt(2)\n",
    "\n",
    "factor = np.power(10,0.11)\n",
    "fig,ax = plt.subplots(1,1,figsize=(8,6))\n",
    "colors= ['blue','green', 'orange',  'red']\n",
    "ax_legend_handles = []\n",
    "for i in  range(4):\n",
    "    survey = label[i].replace('+','-')\n",
    "    sigma_fit =  ss['sigma_'+survey]\n",
    "    x = sigma_fit / sigma_in\n",
    "    ax.hist( x , range=[0,2], histtype='step', \n",
    "            color=colors[i], lw=3,bins=30)\n",
    "    print(survey, 'median sigma_fit/sigma_in= ', np.median(x))\n",
    "    line = mlines.Line2D([], [],  color=colors[i], \n",
    "                                 label=label[i].upper())\n",
    "    ax_legend_handles.append(line)\n",
    "legend_ax = fig.add_axes([0.6, 0.5, 0.29, 0.29])     #  (x0 ,y0  , dx,  dy )  \n",
    "legend_ax.legend(loc='upper right', handles = ax_legend_handles, frameon=False,\n",
    "                 fontsize=15,)\n",
    "legend_ax.axis('off')\n",
    "ax.axvline(1, lw=2, ls='--', c='grey')\n",
    "ax.set_xlabel(r'$\\sigma_{fit} / \\sigma_{in}$')\n",
    "ax.set_ylabel('count')\n",
    "plt.savefig('combined_lc_sampled_sigma_FORTRAN.png', bbox_inches='tight')\n",
    "            \n",
    "\n",
    "\n"
   ]
  },
  {
   "cell_type": "code",
   "execution_count": 15,
   "metadata": {},
   "outputs": [
    {
     "data": {
      "text/html": [
       "<i>Table length=4</i>\n",
       "<table id=\"table4707599584\" class=\"table-striped table-bordered table-condensed\">\n",
       "<thead><tr><th>lcname</th><th>tau_sdss-crts-ptf-ps1</th><th>sigma_sdss-crts-ptf-ps1</th><th>tau_sdss-crts-ptf</th><th>sigma_sdss-crts-ptf</th><th>tau_sdss-crts</th><th>sigma_sdss-crts</th><th>tau_sdss</th><th>sigma_sdss</th></tr></thead>\n",
       "<thead><tr><th>str15</th><th>float64</th><th>float64</th><th>float64</th><th>float64</th><th>float64</th><th>float64</th><th>float64</th><th>float64</th></tr></thead>\n",
       "<tr><td>lc/1001265F.txt</td><td>1824.3787289</td><td>0.125390605629</td><td>1617.76337844</td><td>0.130965830109</td><td>1737.44473759</td><td>0.127745614572</td><td>441.283815927</td><td>0.111159606314</td></tr>\n",
       "<tr><td>lc/1001531F.txt</td><td>25118.8643151</td><td>0.1</td><td>2033.2276169</td><td>0.107130220797</td><td>25118.8643151</td><td>0.11220184543</td><td>25118.8643151</td><td>0.11220184543</td></tr>\n",
       "<tr><td>lc/1001793F.txt</td><td>1088.48387574</td><td>0.108272209631</td><td>1110.47810474</td><td>0.108507560587</td><td>1155.89663651</td><td>0.104775079733</td><td>9858.52631449</td><td>0.0573947277284</td></tr>\n",
       "<tr><td>lc/1002162F.txt</td><td>25118.8643151</td><td>0.125892541179</td><td>25118.8643151</td><td>0.125892541179</td><td>25118.8643151</td><td>0.125892541179</td><td>488.621980869</td><td>0.143994200223</td></tr>\n",
       "</table>"
      ],
      "text/plain": [
       "<Table length=4>\n",
       "     lcname     tau_sdss-crts-ptf-ps1 ...    tau_sdss      sigma_sdss  \n",
       "     str15             float64        ...    float64        float64    \n",
       "--------------- --------------------- ... ------------- ---------------\n",
       "lc/1001265F.txt          1824.3787289 ... 441.283815927  0.111159606314\n",
       "lc/1001531F.txt         25118.8643151 ... 25118.8643151   0.11220184543\n",
       "lc/1001793F.txt         1088.48387574 ... 9858.52631449 0.0573947277284\n",
       "lc/1002162F.txt         25118.8643151 ... 488.621980869  0.143994200223"
      ]
     },
     "execution_count": 15,
     "metadata": {},
     "output_type": "execute_result"
    }
   ],
   "source": [
    "ss[:4]"
   ]
  },
  {
   "cell_type": "code",
   "execution_count": 16,
   "metadata": {},
   "outputs": [
    {
     "data": {
      "text/plain": [
       "(array([  2.39000000e+02,   2.20000000e+01,   8.20000000e+01,\n",
       "          9.87000000e+02,   2.38600000e+03,   1.80100000e+03,\n",
       "          1.62000000e+02,   8.00000000e+00,   0.00000000e+00,\n",
       "          1.00000000e+00]),\n",
       " array([  1.00000000e-10,   2.51188644e-02,   5.02377287e-02,\n",
       "          7.53565930e-02,   1.00475457e-01,   1.25594322e-01,\n",
       "          1.50713186e-01,   1.75832050e-01,   2.00950915e-01,\n",
       "          2.26069779e-01,   2.51188643e-01]),\n",
       " <a list of 10 Patch objects>)"
      ]
     },
     "execution_count": 16,
     "metadata": {},
     "output_type": "execute_result"
    },
    {
     "data": {
      "image/png": "[encoded data removed]",
      "text/plain": [
       "<matplotlib.figure.Figure at 0x116b95908>"
      ]
     },
     "metadata": {},
     "output_type": "display_data"
    }
   ],
   "source": [
    "plt.hist(ss['sigma_sdss-crts-ptf'])"
   ]
  },
  {
   "cell_type": "markdown",
   "metadata": {},
   "source": [
    "Also print sigma_hat, since it should be less biased ... "
   ]
  },
  {
   "cell_type": "code",
   "execution_count": 29,
   "metadata": {},
   "outputs": [
    {
     "name": "stdout",
     "output_type": "stream",
     "text": [
      "sdss median fit / in =  0.471158700528\n",
      "sdss-crts median fit / in =  0.659850689356\n",
      "sdss-crts-ptf median fit / in =  0.660170974719\n",
      "sdss-crts-ptf-ps1 median fit / in =  0.644201044305\n"
     ]
    },
    {
     "data": {
      "image/png": "[encoded data removed]",
      "text/plain": [
       "<matplotlib.figure.Figure at 0x118a86cc0>"
      ]
     },
     "metadata": {},
     "output_type": "display_data"
    }
   ],
   "source": [
    "%matplotlib inline\n",
    "label = ['sdss', 'sdss+crts', 'sdss+crts+ptf', 'sdss+crts+ptf+ps1']\n",
    "import matplotlib.lines as mlines\n",
    "tau_in = 575 # days \n",
    "SF_inf = 0.2  # mags \n",
    "sigma_in = SF_inf / np.sqrt(2)\n",
    "sigma_hat_in = SF_inf / np.sqrt(tau_in)\n",
    "\n",
    "factor = np.power(10,0.11)\n",
    "fig,ax = plt.subplots(1,1,figsize=(8,6))\n",
    "colors= ['blue','green', 'orange',  'red']\n",
    "ax_legend_handles = []\n",
    "for i in  range(4):\n",
    "    survey = label[i].replace('+','-')\n",
    "    sigma_fit =  ss['sigma_'+survey]\n",
    "    tau_fit =  ss['tau_'+survey]\n",
    "    SF_inf_fit = sigma_fit * np.sqrt(2)\n",
    "    sigma_hat_fit = SF_inf_fit / np.sqrt(tau_fit)\n",
    "    x = sigma_hat_fit / sigma_hat_in\n",
    "    ax.hist( x , range=[0,3], histtype='step', \n",
    "            color=colors[i], lw=3,bins=30)\n",
    "    print(survey, 'median fit / in = ', np.median(x))\n",
    "    line = mlines.Line2D([], [],  color=colors[i], \n",
    "                                 label=label[i].upper())\n",
    "    ax_legend_handles.append(line)\n",
    "legend_ax = fig.add_axes([0.6, 0.5, 0.29, 0.29])     #  (x0 ,y0  , dx,  dy )  \n",
    "legend_ax.legend(loc='upper right', handles = ax_legend_handles, frameon=False,\n",
    "                 fontsize=15,)\n",
    "legend_ax.axis('off')\n",
    "ax.axvline(1, lw=2, ls='--', c='grey')\n",
    "ax.set_xlabel(r'$\\hat{\\sigma}_{fit} / \\hat{\\sigma}_{in}$')\n",
    "ax.set_ylabel('count')\n",
    "plt.savefig('combined_lc_sampled_sigma_hat_FORTRAN.png', bbox_inches='tight')\n",
    "            \n",
    "\n",
    "\n",
    "\n"
   ]
  },
  {
   "cell_type": "markdown",
   "metadata": {},
   "source": [
    "I'm quite suprised here that plotting sigma_hat is obviously unbiased when using only SDSS data,  but as we add more data, we actually introduce bias! This could be also due to different errors in each light curve - too many variables. For this reason I'll also try using single error for all light curves ,  to eliminate error as a possible problem, and consider only the sparse light curve length ( the simulated LC for Kozlowski's Fig.2 used only N=60 pts for SDSS cadence, or N=445 for random OGLE obs , both with baseline of 8 years ) ')"
   ]
  },
  {
   "cell_type": "code",
   "execution_count": null,
   "metadata": {
    "collapsed": true
   },
   "outputs": [],
   "source": []
  }
 ],
 "metadata": {
  "kernelspec": {
   "display_name": "Python 3",
   "language": "python",
   "name": "python3"
  },
  "language_info": {
   "codemirror_mode": {
    "name": "ipython",
    "version": 3
   },
   "file_extension": ".py",
   "mimetype": "text/x-python",
   "name": "python",
   "nbconvert_exporter": "python",
   "pygments_lexer": "ipython3",
   "version": "3.6.2"
  }
 },
 "nbformat": 4,
 "nbformat_minor": 2
}
